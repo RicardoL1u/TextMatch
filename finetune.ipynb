{
 "cells": [
  {
   "cell_type": "code",
   "execution_count": 1,
   "metadata": {},
   "outputs": [
    {
     "name": "stderr",
     "output_type": "stream",
     "text": [
      "/home/ricardo/miniconda3/envs/PaddleEE/lib/python3.9/site-packages/tqdm/auto.py:22: TqdmWarning: IProgress not found. Please update jupyter and ipywidgets. See https://ipywidgets.readthedocs.io/en/stable/user_install.html\n",
      "  from .autonotebook import tqdm as notebook_tqdm\n"
     ]
    }
   ],
   "source": [
    "from functools import partial\n",
    "import paddle\n",
    "from paddlenlp.datasets import load_dataset\n",
    "from paddlenlp.transformers import AutoModelForSequenceClassification, AutoTokenizer\n",
    "from paddlenlp.trainer import Trainer, TrainingArguments\n"
   ]
  },
  {
   "cell_type": "code",
   "execution_count": 2,
   "metadata": {},
   "outputs": [
    {
     "name": "stderr",
     "output_type": "stream",
     "text": [
      "\u001b[32m[2022-05-23 23:54:04,523] [    INFO]\u001b[0m - We are using <class 'paddlenlp.transformers.ernie.modeling.ErnieForSequenceClassification'> to load 'ernie-1.0-base-zh'.\u001b[0m\n",
      "\u001b[32m[2022-05-23 23:54:04,524] [    INFO]\u001b[0m - Already cached /home/ricardo/.paddlenlp/models/ernie-1.0-base-zh/ernie_v1_chn_base.pdparams\u001b[0m\n",
      "\u001b[32m[2022-05-23 23:54:14,933] [    INFO]\u001b[0m - We are using <class 'paddlenlp.transformers.ernie.tokenizer.ErnieTokenizer'> to load 'ernie-1.0-base-zh'.\u001b[0m\n",
      "\u001b[32m[2022-05-23 23:54:14,934] [    INFO]\u001b[0m - Already cached /home/ricardo/.paddlenlp/models/ernie-1.0-base-zh/vocab.txt\u001b[0m\n"
     ]
    }
   ],
   "source": [
    "train_dataset = load_dataset(\"chnsenticorp\", splits=[\"train\"])\n",
    "model = AutoModelForSequenceClassification.from_pretrained(\"ernie-1.0-base-zh\", num_classes=len(train_dataset.label_list))\n",
    "tokenizer = AutoTokenizer.from_pretrained(\"ernie-1.0-base-zh\")\n",
    "\n",
    "def convert_example(example, tokenizer):\n",
    "    encoded_inputs = tokenizer(text=example[\"text\"], max_seq_len=128, pad_to_max_seq_len=True)\n",
    "    encoded_inputs[\"labels\"] = int(example[\"label\"])\n",
    "    return encoded_inputs\n",
    "\n",
    "train_dataset = train_dataset.map(partial(convert_example, tokenizer=tokenizer))"
   ]
  },
  {
   "cell_type": "code",
   "execution_count": 3,
   "metadata": {},
   "outputs": [
    {
     "name": "stderr",
     "output_type": "stream",
     "text": [
      "\u001b[32m[2022-05-23 23:54:15,043] [    INFO]\u001b[0m - The default value for the training argument `--report_to` will change in v5 (from all installed integrations to none). In v5, you will need to use `--report_to all` to get the same behavior as now. You should start updating your code and make this info disappear :-).\u001b[0m\n"
     ]
    }
   ],
   "source": [
    "print(train_dataset[100])"
   ]
  },
  {
   "cell_type": "code",
   "execution_count": null,
   "metadata": {},
   "outputs": [],
   "source": [
    "training_args = TrainingArguments('./output')\n",
    "training_args.do_train = True\n",
    "training_args.evaluation_strategy = 'steps'\n",
    "# print(training_args)"
   ]
  },
  {
   "cell_type": "code",
   "execution_count": 4,
   "metadata": {},
   "outputs": [],
   "source": [
    "class Custom_MSE(paddle.nn.Layer):\n",
    "    def __init__(self):\n",
    "        super(Custom_MSE, self).__init__()\n",
    "\n",
    "    def forward(self, predictions, target):\n",
    "        square_difference = paddle.square(predictions - target)\n",
    "        loss_value = paddle.mean(square_difference)\n",
    "        return loss_value\n",
    "    \n",
    "    # def __call__(self, predictions, target):\n",
    "    #   square_difference = paddle.square(y_predictions - target)\n",
    "    #   loss_value = paddle.mean(square_difference)\n",
    "    #   return loss_value"
   ]
  },
  {
   "cell_type": "code",
   "execution_count": 5,
   "metadata": {},
   "outputs": [],
   "source": [
    "# trainer = Trainer(\n",
    "#     model=model,\n",
    "#     criterion=paddle.nn.loss.CrossEntropyLoss(),\n",
    "#     args=training_args,\n",
    "#     train_dataset=train_dataset if training_args.do_train else None,\n",
    "#     tokenizer=tokenizer)\n",
    "\n",
    "# if training_args.do_train:\n",
    "#     train_result = trainer.train()\n",
    "#     metrics = train_result.metrics\n",
    "#     trainer.save_model()\n",
    "#     trainer.log_metrics(\"train\", metrics)\n",
    "#     trainer.save_state()"
   ]
  },
  {
   "cell_type": "code",
   "execution_count": null,
   "metadata": {},
   "outputs": [],
   "source": []
  }
 ],
 "metadata": {
  "interpreter": {
   "hash": "077e27cbed4bc4ef53cb87468badd11a7a60a73d7494d4644aa5441d1d891a61"
  },
  "kernelspec": {
   "display_name": "Python 3.9.7 ('PaddleEE')",
   "language": "python",
   "name": "python3"
  },
  "language_info": {
   "codemirror_mode": {
    "name": "ipython",
    "version": 3
   },
   "file_extension": ".py",
   "mimetype": "text/x-python",
   "name": "python",
   "nbconvert_exporter": "python",
   "pygments_lexer": "ipython3",
   "version": "3.9.7"
  },
  "orig_nbformat": 4
 },
 "nbformat": 4,
 "nbformat_minor": 2
}
