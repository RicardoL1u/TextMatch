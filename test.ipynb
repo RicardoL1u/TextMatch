{
 "cells": [
  {
   "cell_type": "code",
   "execution_count": 2,
   "metadata": {},
   "outputs": [
    {
     "name": "stdout",
     "output_type": "stream",
     "text": [
      "[99, 99, 99, 4, 5]\n"
     ]
    }
   ],
   "source": [
    "test = [1,2,3,4,5]\n",
    "test[0:3] = [99] * 3\n",
    "print(test)"
   ]
  },
  {
   "cell_type": "code",
   "execution_count": null,
   "metadata": {},
   "outputs": [],
   "source": [
    "from paddlenlp.transformers import BertModel, BertTokenizer,BertForMaskedLM\n",
    "tokenizer = BertTokenizer.from_pretrained('bert-base-chinese')"
   ]
  }
 ],
 "metadata": {
  "interpreter": {
   "hash": "077e27cbed4bc4ef53cb87468badd11a7a60a73d7494d4644aa5441d1d891a61"
  },
  "kernelspec": {
   "display_name": "Python 3.9.7 ('PaddleEE')",
   "language": "python",
   "name": "python3"
  },
  "language_info": {
   "codemirror_mode": {
    "name": "ipython",
    "version": 3
   },
   "file_extension": ".py",
   "mimetype": "text/x-python",
   "name": "python",
   "nbconvert_exporter": "python",
   "pygments_lexer": "ipython3",
   "version": "3.9.7"
  },
  "orig_nbformat": 4
 },
 "nbformat": 4,
 "nbformat_minor": 2
}
